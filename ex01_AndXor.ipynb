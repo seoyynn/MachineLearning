{
 "cells": [
  {
   "cell_type": "markdown",
   "id": "e8791a89",
   "metadata": {},
   "source": [
    "### 목표\n",
    "- 데이터를 학습시켜 모델에게 and, xor 연산 패턴을 찾는다\n",
    "- 기본적인 머신러닝 과정을 이해한다"
   ]
  },
  {
   "cell_type": "code",
   "execution_count": 1,
   "id": "475302fb",
   "metadata": {
    "ExecuteTime": {
     "end_time": "2023-01-25T01:50:16.791141Z",
     "start_time": "2023-01-25T01:50:16.041659Z"
    }
   },
   "outputs": [],
   "source": [
    "import pandas as pd"
   ]
  },
  {
   "cell_type": "code",
   "execution_count": 2,
   "id": "64d8ecb6",
   "metadata": {
    "ExecuteTime": {
     "end_time": "2023-01-25T01:51:34.494745Z",
     "start_time": "2023-01-25T01:51:34.461858Z"
    }
   },
   "outputs": [
    {
     "data": {
      "text/html": [
       "<div>\n",
       "<style scoped>\n",
       "    .dataframe tbody tr th:only-of-type {\n",
       "        vertical-align: middle;\n",
       "    }\n",
       "\n",
       "    .dataframe tbody tr th {\n",
       "        vertical-align: top;\n",
       "    }\n",
       "\n",
       "    .dataframe thead th {\n",
       "        text-align: right;\n",
       "    }\n",
       "</style>\n",
       "<table border=\"1\" class=\"dataframe\">\n",
       "  <thead>\n",
       "    <tr style=\"text-align: right;\">\n",
       "      <th></th>\n",
       "      <th>A</th>\n",
       "      <th>B</th>\n",
       "      <th>AandB</th>\n",
       "    </tr>\n",
       "  </thead>\n",
       "  <tbody>\n",
       "    <tr>\n",
       "      <th>0</th>\n",
       "      <td>0</td>\n",
       "      <td>0</td>\n",
       "      <td>0</td>\n",
       "    </tr>\n",
       "    <tr>\n",
       "      <th>1</th>\n",
       "      <td>0</td>\n",
       "      <td>1</td>\n",
       "      <td>0</td>\n",
       "    </tr>\n",
       "    <tr>\n",
       "      <th>2</th>\n",
       "      <td>1</td>\n",
       "      <td>0</td>\n",
       "      <td>0</td>\n",
       "    </tr>\n",
       "    <tr>\n",
       "      <th>3</th>\n",
       "      <td>1</td>\n",
       "      <td>1</td>\n",
       "      <td>1</td>\n",
       "    </tr>\n",
       "  </tbody>\n",
       "</table>\n",
       "</div>"
      ],
      "text/plain": [
       "   A  B  AandB\n",
       "0  0  0      0\n",
       "1  0  1      0\n",
       "2  1  0      0\n",
       "3  1  1      1"
      ]
     },
     "execution_count": 2,
     "metadata": {},
     "output_type": "execute_result"
    }
   ],
   "source": [
    "data = {'A':[0,0,1,1], 'B':[0,1,0,1], 'AandB':[0,0,0,1]}\n",
    "df = pd.DataFrame(data)\n",
    "df"
   ]
  },
  {
   "cell_type": "markdown",
   "id": "281023fc",
   "metadata": {},
   "source": [
    "#### 문제와 답으로 분리\n",
    "- x : 문제 = 속성 = 특성 = 특징 = 피쳐(feature) - 2차원이라 대문자 X\n",
    "- y : 답 = 레이블(label) = 타겟(target) - 1차원이라 소문자 y"
   ]
  },
  {
   "cell_type": "code",
   "execution_count": 4,
   "id": "48226515",
   "metadata": {
    "ExecuteTime": {
     "end_time": "2023-01-25T02:15:57.196629Z",
     "start_time": "2023-01-25T02:15:57.190646Z"
    }
   },
   "outputs": [],
   "source": [
    "X = df[['A','B']]\n",
    "X = df.loc[:, ['A','B']]\n",
    "X = df.loc[:, 'A':'B']\n",
    "X = df.iloc[:,[0,1]]\n",
    "# 훈련데이터의 경우 train으로 구분\n",
    "X_train = df.iloc[:,:2]\n",
    "\n",
    "y_train = df['AandB']"
   ]
  },
  {
   "cell_type": "code",
   "execution_count": 5,
   "id": "8dd1078b",
   "metadata": {
    "ExecuteTime": {
     "end_time": "2023-01-25T02:17:32.634089Z",
     "start_time": "2023-01-25T02:17:32.616116Z"
    }
   },
   "outputs": [
    {
     "name": "stdout",
     "output_type": "stream",
     "text": [
      "(4, 2)\n",
      "(4,)\n"
     ]
    }
   ],
   "source": [
    "# 크기확인\n",
    "print(X_train.shape)\n",
    "print(y_train.shape)"
   ]
  },
  {
   "cell_type": "markdown",
   "id": "045dc99e",
   "metadata": {},
   "source": [
    "#### ML 모델 학습"
   ]
  },
  {
   "cell_type": "code",
   "execution_count": 6,
   "id": "219aa75a",
   "metadata": {
    "ExecuteTime": {
     "end_time": "2023-01-25T02:21:43.612428Z",
     "start_time": "2023-01-25T02:21:43.599435Z"
    }
   },
   "outputs": [],
   "source": [
    "# scikit-learn 머신러닝용 패키지 라이브러리\n",
    "from sklearn.neighbors import KNeighborsClassifier # 분류모델"
   ]
  },
  {
   "cell_type": "code",
   "execution_count": 7,
   "id": "f7e79c93",
   "metadata": {
    "ExecuteTime": {
     "end_time": "2023-01-25T02:26:06.644197Z",
     "start_time": "2023-01-25T02:26:06.632229Z"
    }
   },
   "outputs": [],
   "source": [
    "# 모델 객체 생성 + HyperParameter 설정\n",
    "knn_model = KNeighborsClassifier(n_neighbors=1)\n",
    "\n",
    "# KNN 최근접 이웃 알고리즘\n",
    "# 문제 데이터와 가장 가까운 이웃 데이터와 \n",
    "# 실제 답을 확인하여 결과를 예측하는 모델"
   ]
  },
  {
   "cell_type": "code",
   "execution_count": 8,
   "id": "e189850f",
   "metadata": {
    "ExecuteTime": {
     "end_time": "2023-01-25T02:29:18.620621Z",
     "start_time": "2023-01-25T02:29:18.607656Z"
    }
   },
   "outputs": [
    {
     "data": {
      "text/plain": [
       "KNeighborsClassifier(n_neighbors=1)"
      ]
     },
     "execution_count": 8,
     "metadata": {},
     "output_type": "execute_result"
    }
   ],
   "source": [
    "# 모델 학습\n",
    "# fit(학습용 문제, 학습용 답) : 데이터에 맞춰서 모델이 학습한다.\n",
    "knn_model.fit(X_train,y_train)"
   ]
  },
  {
   "cell_type": "code",
   "execution_count": 9,
   "id": "af378adf",
   "metadata": {
    "ExecuteTime": {
     "end_time": "2023-01-25T02:32:32.060625Z",
     "start_time": "2023-01-25T02:32:32.048211Z"
    }
   },
   "outputs": [
    {
     "name": "stderr",
     "output_type": "stream",
     "text": [
      "C:\\Users\\smhrd\\anaconda3\\lib\\site-packages\\sklearn\\base.py:450: UserWarning: X does not have valid feature names, but KNeighborsClassifier was fitted with feature names\n",
      "  warnings.warn(\n",
      "C:\\Users\\smhrd\\anaconda3\\lib\\site-packages\\sklearn\\neighbors\\_classification.py:228: FutureWarning: Unlike other reduction functions (e.g. `skew`, `kurtosis`), the default behavior of `mode` typically preserves the axis it acts along. In SciPy 1.11.0, this behavior will change: the default value of `keepdims` will become False, the `axis` over which the statistic is taken will be eliminated, and the value None will no longer be accepted. Set `keepdims` to True or False to avoid this warning.\n",
      "  mode, _ = stats.mode(_y[neigh_ind, k], axis=1)\n"
     ]
    },
    {
     "data": {
      "text/plain": [
       "array([0, 1], dtype=int64)"
      ]
     },
     "execution_count": 9,
     "metadata": {},
     "output_type": "execute_result"
    }
   ],
   "source": [
    "# 예측\n",
    "# predict(X_text) 테스트용 문제 넣어주기\n",
    "# 임의의 데이터 [[0,1],[1,1]]\n",
    "# 실제 답 [0,1]이 나와야 함\n",
    "pre = knn_model.predict([[0,1],[1,1]])\n",
    "pre"
   ]
  },
  {
   "cell_type": "code",
   "execution_count": 11,
   "id": "9071d8e9",
   "metadata": {
    "ExecuteTime": {
     "end_time": "2023-01-25T02:35:59.933168Z",
     "start_time": "2023-01-25T02:35:59.919206Z"
    }
   },
   "outputs": [
    {
     "data": {
      "text/plain": [
       "100.0"
      ]
     },
     "execution_count": 11,
     "metadata": {},
     "output_type": "execute_result"
    }
   ],
   "source": [
    "# 평가\n",
    "from sklearn.metrics import accuracy_score\n",
    "accuracy_score(pre, [0,1]) # accuracy_score(예측한 결과, 실제 답)\n",
    "# accuracy_score(pre, [0,1])*100 -> 퍼센트로 보고싶으면 *100 해주면 됨\n",
    "# = 정답 1.0 => 100%"
   ]
  },
  {
   "cell_type": "code",
   "execution_count": null,
   "id": "2fc1ef62",
   "metadata": {},
   "outputs": [],
   "source": []
  },
  {
   "cell_type": "code",
   "execution_count": null,
   "id": "711d23cd",
   "metadata": {},
   "outputs": [],
   "source": []
  },
  {
   "cell_type": "code",
   "execution_count": null,
   "id": "63f2e706",
   "metadata": {},
   "outputs": [],
   "source": []
  },
  {
   "cell_type": "code",
   "execution_count": null,
   "id": "02e07dfe",
   "metadata": {},
   "outputs": [],
   "source": []
  },
  {
   "cell_type": "code",
   "execution_count": null,
   "id": "c217ff8d",
   "metadata": {},
   "outputs": [],
   "source": []
  },
  {
   "cell_type": "code",
   "execution_count": null,
   "id": "2ecbc185",
   "metadata": {},
   "outputs": [],
   "source": []
  },
  {
   "cell_type": "code",
   "execution_count": null,
   "id": "7b300b79",
   "metadata": {},
   "outputs": [],
   "source": []
  },
  {
   "cell_type": "code",
   "execution_count": null,
   "id": "e4bff1be",
   "metadata": {},
   "outputs": [],
   "source": []
  },
  {
   "cell_type": "code",
   "execution_count": null,
   "id": "484a7d99",
   "metadata": {},
   "outputs": [],
   "source": []
  },
  {
   "cell_type": "code",
   "execution_count": null,
   "id": "b842eed9",
   "metadata": {},
   "outputs": [],
   "source": []
  }
 ],
 "metadata": {
  "kernelspec": {
   "display_name": "Python 3 (ipykernel)",
   "language": "python",
   "name": "python3"
  },
  "language_info": {
   "codemirror_mode": {
    "name": "ipython",
    "version": 3
   },
   "file_extension": ".py",
   "mimetype": "text/x-python",
   "name": "python",
   "nbconvert_exporter": "python",
   "pygments_lexer": "ipython3",
   "version": "3.9.13"
  },
  "toc": {
   "base_numbering": 1,
   "nav_menu": {},
   "number_sections": true,
   "sideBar": true,
   "skip_h1_title": false,
   "title_cell": "Table of Contents",
   "title_sidebar": "Contents",
   "toc_cell": false,
   "toc_position": {},
   "toc_section_display": true,
   "toc_window_display": false
  }
 },
 "nbformat": 4,
 "nbformat_minor": 5
}
