{
 "cells": [
  {
   "cell_type": "markdown",
   "id": "926fde70",
   "metadata": {},
   "source": [
    "### 간단한 선형회귀 = 성적 데이터 생성"
   ]
  },
  {
   "cell_type": "code",
   "execution_count": 1,
   "id": "cbd59e69",
   "metadata": {
    "ExecuteTime": {
     "end_time": "2023-02-09T07:49:00.516112Z",
     "start_time": "2023-02-09T07:48:59.452754Z"
    }
   },
   "outputs": [],
   "source": [
    "import numpy as np\n",
    "import pandas as pd\n",
    "import matplotlib.pyplot as plt"
   ]
  },
  {
   "cell_type": "code",
   "execution_count": 2,
   "id": "83755a7b",
   "metadata": {
    "ExecuteTime": {
     "end_time": "2023-02-09T07:49:00.548003Z",
     "start_time": "2023-02-09T07:49:00.518088Z"
    }
   },
   "outputs": [
    {
     "data": {
      "text/html": [
       "<div>\n",
       "<style scoped>\n",
       "    .dataframe tbody tr th:only-of-type {\n",
       "        vertical-align: middle;\n",
       "    }\n",
       "\n",
       "    .dataframe tbody tr th {\n",
       "        vertical-align: top;\n",
       "    }\n",
       "\n",
       "    .dataframe thead th {\n",
       "        text-align: right;\n",
       "    }\n",
       "</style>\n",
       "<table border=\"1\" class=\"dataframe\">\n",
       "  <thead>\n",
       "    <tr style=\"text-align: right;\">\n",
       "      <th></th>\n",
       "      <th>시간</th>\n",
       "      <th>성적</th>\n",
       "    </tr>\n",
       "  </thead>\n",
       "  <tbody>\n",
       "    <tr>\n",
       "      <th>서연</th>\n",
       "      <td>2</td>\n",
       "      <td>20</td>\n",
       "    </tr>\n",
       "    <tr>\n",
       "      <th>경진</th>\n",
       "      <td>4</td>\n",
       "      <td>40</td>\n",
       "    </tr>\n",
       "    <tr>\n",
       "      <th>다희</th>\n",
       "      <td>8</td>\n",
       "      <td>80</td>\n",
       "    </tr>\n",
       "    <tr>\n",
       "      <th>정선</th>\n",
       "      <td>9</td>\n",
       "      <td>90</td>\n",
       "    </tr>\n",
       "  </tbody>\n",
       "</table>\n",
       "</div>"
      ],
      "text/plain": [
       "    시간  성적\n",
       "서연   2  20\n",
       "경진   4  40\n",
       "다희   8  80\n",
       "정선   9  90"
      ]
     },
     "execution_count": 2,
     "metadata": {},
     "output_type": "execute_result"
    }
   ],
   "source": [
    "data = pd.DataFrame([[2,20],[4,40],[8,80],[9,90]],\n",
    "                    index = ['서연','경진','다희','정선'],\n",
    "                    columns = ['시간','성적'])\n",
    "data"
   ]
  },
  {
   "cell_type": "markdown",
   "id": "ed60e356",
   "metadata": {},
   "source": [
    "### 선형회귀 공식을 사용한 회귀  \n",
    "- 수학 공식을 이용한 해석적 모델 -> LinearRegression"
   ]
  },
  {
   "cell_type": "code",
   "execution_count": 3,
   "id": "bafa236c",
   "metadata": {
    "ExecuteTime": {
     "end_time": "2023-02-09T07:49:01.208811Z",
     "start_time": "2023-02-09T07:49:00.550975Z"
    }
   },
   "outputs": [],
   "source": [
    "from sklearn.linear_model import LinearRegression\n",
    "\n",
    "linear_model = LinearRegression()"
   ]
  },
  {
   "cell_type": "code",
   "execution_count": 4,
   "id": "6ff4980a",
   "metadata": {
    "ExecuteTime": {
     "end_time": "2023-02-09T07:49:01.239811Z",
     "start_time": "2023-02-09T07:49:01.212786Z"
    }
   },
   "outputs": [
    {
     "data": {
      "text/plain": [
       "LinearRegression()"
      ]
     },
     "execution_count": 4,
     "metadata": {},
     "output_type": "execute_result"
    }
   ],
   "source": [
    "linear_model.fit(data[['시간']],data['성적'])"
   ]
  },
  {
   "cell_type": "code",
   "execution_count": 5,
   "id": "96844320",
   "metadata": {
    "ExecuteTime": {
     "end_time": "2023-02-09T07:49:01.255811Z",
     "start_time": "2023-02-09T07:49:01.240786Z"
    }
   },
   "outputs": [
    {
     "name": "stdout",
     "output_type": "stream",
     "text": [
      "가중치 :  [10.]\n",
      "절편 :  7.105427357601002e-15\n"
     ]
    }
   ],
   "source": [
    "# y = wx + b\n",
    "print('가중치 : ', linear_model.coef_)\n",
    "print('절편 : ', linear_model.intercept_)"
   ]
  },
  {
   "cell_type": "code",
   "execution_count": 6,
   "id": "7e97fcb8",
   "metadata": {
    "ExecuteTime": {
     "end_time": "2023-02-09T07:49:01.271785Z",
     "start_time": "2023-02-09T07:49:01.257786Z"
    }
   },
   "outputs": [
    {
     "name": "stderr",
     "output_type": "stream",
     "text": [
      "C:\\Users\\smhrd\\anaconda3\\lib\\site-packages\\sklearn\\base.py:450: UserWarning: X does not have valid feature names, but LinearRegression was fitted with feature names\n",
      "  warnings.warn(\n"
     ]
    },
    {
     "data": {
      "text/plain": [
       "array([70.])"
      ]
     },
     "execution_count": 6,
     "metadata": {},
     "output_type": "execute_result"
    }
   ],
   "source": [
    "# 준연 7시간 공부\n",
    "linear_model.predict([[7]])"
   ]
  },
  {
   "cell_type": "markdown",
   "id": "e87ca266",
   "metadata": {},
   "source": [
    "### MES가 최소가 되는 최적의 w,b를 찾아내는 방법  \n",
    "- MSE : 평균제곱오차(Mean Squared Error) -> 비용함수(cost)  \n",
    "- 1. 수학공식을 이용한 해석적 모델 -> Linear Regression도구\n",
    "- 2. 경사 하강법 -> SGD Regressor 도구"
   ]
  },
  {
   "cell_type": "code",
   "execution_count": 7,
   "id": "98b33cdc",
   "metadata": {
    "ExecuteTime": {
     "end_time": "2023-02-09T07:49:01.287812Z",
     "start_time": "2023-02-09T07:49:01.273814Z"
    }
   },
   "outputs": [],
   "source": [
    "# h(X) 가설 함수 -> y = wx+b\n",
    "def h(w,x):\n",
    "    return w*x+0"
   ]
  },
  {
   "cell_type": "code",
   "execution_count": 8,
   "id": "185ab647",
   "metadata": {
    "ExecuteTime": {
     "end_time": "2023-02-09T07:49:01.303876Z",
     "start_time": "2023-02-09T07:49:01.289784Z"
    }
   },
   "outputs": [],
   "source": [
    "# mse(비용함수)정의\n",
    "# data -> 문제값\n",
    "# target -> 실제값\n",
    "# weight -> 가중치\n",
    "def cost(data, target, weight):\n",
    "    # 예측\n",
    "    y_pre = h(weight, data)\n",
    "    # 평균제곱오차 -> 예측값 - \n",
    "    error = ((y_pre - target)**2).mean()\n",
    "    return error"
   ]
  },
  {
   "cell_type": "code",
   "execution_count": 9,
   "id": "b74f0678",
   "metadata": {
    "ExecuteTime": {
     "end_time": "2023-02-09T07:49:01.318796Z",
     "start_time": "2023-02-09T07:49:01.305784Z"
    }
   },
   "outputs": [
    {
     "data": {
      "text/plain": [
       "4125.0"
      ]
     },
     "execution_count": 9,
     "metadata": {},
     "output_type": "execute_result"
    }
   ],
   "source": [
    "# 가중치에 따른 오차값 확인\n",
    "cost(data['시간'],data['성적'],20)"
   ]
  },
  {
   "cell_type": "code",
   "execution_count": 10,
   "id": "937ccde6",
   "metadata": {
    "ExecuteTime": {
     "end_time": "2023-02-09T07:49:01.334735Z",
     "start_time": "2023-02-09T07:49:01.322785Z"
    }
   },
   "outputs": [
    {
     "data": {
      "text/plain": [
       "1031.25"
      ]
     },
     "execution_count": 10,
     "metadata": {},
     "output_type": "execute_result"
    }
   ],
   "source": [
    "# 가중치에 따른 오차값 확인\n",
    "cost(data['시간'],data['성적'],15)"
   ]
  },
  {
   "cell_type": "code",
   "execution_count": 11,
   "id": "6dc7516d",
   "metadata": {
    "ExecuteTime": {
     "end_time": "2023-02-09T07:49:01.350730Z",
     "start_time": "2023-02-09T07:49:01.336732Z"
    }
   },
   "outputs": [
    {
     "data": {
      "text/plain": [
       "165.0"
      ]
     },
     "execution_count": 11,
     "metadata": {},
     "output_type": "execute_result"
    }
   ],
   "source": [
    "# 가중치에 따른 오차값 확인\n",
    "cost(data['시간'],data['성적'],12)"
   ]
  },
  {
   "cell_type": "code",
   "execution_count": 12,
   "id": "a87f3748",
   "metadata": {
    "ExecuteTime": {
     "end_time": "2023-02-09T07:49:01.366736Z",
     "start_time": "2023-02-09T07:49:01.351702Z"
    }
   },
   "outputs": [
    {
     "data": {
      "text/plain": [
       "0.0"
      ]
     },
     "execution_count": 12,
     "metadata": {},
     "output_type": "execute_result"
    }
   ],
   "source": [
    "# 가중치에 따른 오차값 확인\n",
    "cost(data['시간'],data['성적'],10)"
   ]
  },
  {
   "cell_type": "code",
   "execution_count": 13,
   "id": "5734cd37",
   "metadata": {
    "ExecuteTime": {
     "end_time": "2023-02-09T07:49:01.382705Z",
     "start_time": "2023-02-09T07:49:01.368720Z"
    }
   },
   "outputs": [
    {
     "data": {
      "text/plain": [
       "165.0"
      ]
     },
     "execution_count": 13,
     "metadata": {},
     "output_type": "execute_result"
    }
   ],
   "source": [
    "# 가중치에 따른 오차값 확인\n",
    "cost(data['시간'],data['성적'],8)"
   ]
  },
  {
   "cell_type": "code",
   "execution_count": 14,
   "id": "73985fcc",
   "metadata": {
    "ExecuteTime": {
     "end_time": "2023-02-09T07:49:01.413995Z",
     "start_time": "2023-02-09T07:49:01.386725Z"
    }
   },
   "outputs": [
    {
     "data": {
      "text/plain": [
       "[16500.0,\n",
       " 14891.25,\n",
       " 13365.0,\n",
       " 11921.25,\n",
       " 10560.0,\n",
       " 9281.25,\n",
       " 8085.0,\n",
       " 6971.25,\n",
       " 5940.0,\n",
       " 4991.25,\n",
       " 4125.0,\n",
       " 3341.25,\n",
       " 2640.0,\n",
       " 2021.25,\n",
       " 1485.0,\n",
       " 1031.25,\n",
       " 660.0,\n",
       " 371.25,\n",
       " 165.0,\n",
       " 41.25,\n",
       " 0.0,\n",
       " 41.25,\n",
       " 165.0,\n",
       " 371.25,\n",
       " 660.0,\n",
       " 1031.25,\n",
       " 1485.0,\n",
       " 2021.25,\n",
       " 2640.0,\n",
       " 3341.25,\n",
       " 4125.0,\n",
       " 4991.25,\n",
       " 5940.0,\n",
       " 6971.25,\n",
       " 8085.0,\n",
       " 9281.25,\n",
       " 10560.0,\n",
       " 11921.25,\n",
       " 13365.0,\n",
       " 14891.25,\n",
       " 16500.0]"
      ]
     },
     "execution_count": 14,
     "metadata": {},
     "output_type": "execute_result"
    }
   ],
   "source": [
    "cost_list = []\n",
    "\n",
    "for w in range(-10, 31):\n",
    "    e = cost(data['시간'],data['성적'],w)\n",
    "    cost_list.append(e)\n",
    "\n",
    "cost_list"
   ]
  },
  {
   "cell_type": "code",
   "execution_count": 15,
   "id": "a83b117e",
   "metadata": {
    "ExecuteTime": {
     "end_time": "2023-02-09T07:49:01.650553Z",
     "start_time": "2023-02-09T07:49:01.416991Z"
    }
   },
   "outputs": [
    {
     "data": {
      "image/png": "[encoded data removed]",
      "text/plain": [
       "<Figure size 640x480 with 1 Axes>"
      ]
     },
     "metadata": {},
     "output_type": "display_data"
    }
   ],
   "source": [
    "# 가중치(w)변화에 따른 비용하수(mse)값의 변화 그래프 그리기\n",
    "plt.plot(range(-10,31),cost_list)\n",
    "plt.show()"
   ]
  },
  {
   "cell_type": "code",
   "execution_count": 16,
   "id": "59491d43",
   "metadata": {
    "ExecuteTime": {
     "end_time": "2023-02-09T07:49:01.666544Z",
     "start_time": "2023-02-09T07:49:01.654527Z"
    }
   },
   "outputs": [
    {
     "data": {
      "text/plain": [
       "1.0"
      ]
     },
     "execution_count": 16,
     "metadata": {},
     "output_type": "execute_result"
    }
   ],
   "source": [
    "# 분류 모델 score - 정확도\n",
    "# 회귀 모델 score - R2 score(유사도)\n",
    "linear_model.score(data[['시간']],data['성적'])"
   ]
  },
  {
   "cell_type": "markdown",
   "id": "b5bf7bcf",
   "metadata": {},
   "source": [
    "### 보스턴 주택값 예측 실습"
   ]
  },
  {
   "cell_type": "markdown",
   "id": "70e1f8cc",
   "metadata": {},
   "source": [
    "- 컬럼값들의 특징\n",
    "\n",
    "<table border=0 align=left width=500>\n",
    "  <tr><th>feature<th width=400>설명\n",
    "  <tr><td>Crim<td>지역별 범죄 발생률\n",
    "  <tr><td>ZN<td>25,000 평방 피트를 초과하는 거주 지역의 비율\n",
    "  <tr><td>IDUS<td>비 상업 지역 넓이 비율\n",
    "  <tr><td>CHAS<td>찰스강에 대한 더미 변수(강의 경계에 위치한 경우 1 아니면 0\n",
    "  <tr><td>NOX<td>일산화질소 농도\n",
    "  <tr><td>RM<td>거주할 수 있는 방 개수\n",
    "  <tr><td>AGE<td>1940년 이전에 건축된 소유 주택의 비율\n",
    "  <tr><td>DIS<td>5개 주요 고용센터까지의 가중 거리\n",
    "  <tr><td>RAD<td>고속도로 접근 용이도\n",
    "  <tr><td>TAX<td>10,000달러 당 재산세율\n",
    "  <tr><td>PTRATIO<td>지역의 교사와 학생 수 비율\n",
    "  <tr><td>B<td>지역의 흑인 거주 비율\n",
    "  <tr><td>LSTAT<td>하위 계층의 비율\n",
    "</table>      "
   ]
  },
  {
   "cell_type": "code",
   "execution_count": 17,
   "id": "b403644a",
   "metadata": {
    "ExecuteTime": {
     "end_time": "2023-02-09T07:49:01.793489Z",
     "start_time": "2023-02-09T07:49:01.668518Z"
    }
   },
   "outputs": [
    {
     "name": "stderr",
     "output_type": "stream",
     "text": [
      "C:\\Users\\smhrd\\anaconda3\\lib\\site-packages\\sklearn\\utils\\deprecation.py:87: FutureWarning: Function load_boston is deprecated; `load_boston` is deprecated in 1.0 and will be removed in 1.2.\n",
      "\n",
      "    The Boston housing prices dataset has an ethical problem. You can refer to\n",
      "    the documentation of this function for further details.\n",
      "\n",
      "    The scikit-learn maintainers therefore strongly discourage the use of this\n",
      "    dataset unless the purpose of the code is to study and educate about\n",
      "    ethical issues in data science and machine learning.\n",
      "\n",
      "    In this special case, you can fetch the dataset from the original\n",
      "    source::\n",
      "\n",
      "        import pandas as pd\n",
      "        import numpy as np\n",
      "\n",
      "\n",
      "        data_url = \"http://lib.stat.cmu.edu/datasets/boston\"\n",
      "        raw_df = pd.read_csv(data_url, sep=\"\\s+\", skiprows=22, header=None)\n",
      "        data = np.hstack([raw_df.values[::2, :], raw_df.values[1::2, :2]])\n",
      "        target = raw_df.values[1::2, 2]\n",
      "\n",
      "    Alternative datasets include the California housing dataset (i.e.\n",
      "    :func:`~sklearn.datasets.fetch_california_housing`) and the Ames housing\n",
      "    dataset. You can load the datasets as follows::\n",
      "\n",
      "        from sklearn.datasets import fetch_california_housing\n",
      "        housing = fetch_california_housing()\n",
      "\n",
      "    for the California housing dataset and::\n",
      "\n",
      "        from sklearn.datasets import fetch_openml\n",
      "        housing = fetch_openml(name=\"house_prices\", as_frame=True)\n",
      "\n",
      "    for the Ames housing dataset.\n",
      "    \n",
      "  warnings.warn(msg, category=FutureWarning)\n"
     ]
    },
    {
     "data": {
      "text/plain": [
       "dict_keys(['data', 'target', 'feature_names', 'DESCR', 'filename', 'data_module'])"
      ]
     },
     "execution_count": 17,
     "metadata": {},
     "output_type": "execute_result"
    }
   ],
   "source": [
    "# 데이터 가져오기\n",
    "from sklearn.datasets import load_boston\n",
    "boston = load_boston()\n",
    "boston.keys()"
   ]
  },
  {
   "cell_type": "code",
   "execution_count": 18,
   "id": "782235d8",
   "metadata": {
    "ExecuteTime": {
     "end_time": "2023-02-09T07:49:01.809488Z",
     "start_time": "2023-02-09T07:49:01.799457Z"
    }
   },
   "outputs": [
    {
     "data": {
      "text/plain": [
       "array(['CRIM', 'ZN', 'INDUS', 'CHAS', 'NOX', 'RM', 'AGE', 'DIS', 'RAD',\n",
       "       'TAX', 'PTRATIO', 'B', 'LSTAT'], dtype='<U7')"
      ]
     },
     "execution_count": 18,
     "metadata": {},
     "output_type": "execute_result"
    }
   ],
   "source": [
    "boston['feature_names']"
   ]
  },
  {
   "cell_type": "code",
   "execution_count": 19,
   "id": "6c806a82",
   "metadata": {
    "ExecuteTime": {
     "end_time": "2023-02-09T07:49:01.841479Z",
     "start_time": "2023-02-09T07:49:01.813460Z"
    }
   },
   "outputs": [
    {
     "data": {
      "text/html": [
       "<div>\n",
       "<style scoped>\n",
       "    .dataframe tbody tr th:only-of-type {\n",
       "        vertical-align: middle;\n",
       "    }\n",
       "\n",
       "    .dataframe tbody tr th {\n",
       "        vertical-align: top;\n",
       "    }\n",
       "\n",
       "    .dataframe thead th {\n",
       "        text-align: right;\n",
       "    }\n",
       "</style>\n",
       "<table border=\"1\" class=\"dataframe\">\n",
       "  <thead>\n",
       "    <tr style=\"text-align: right;\">\n",
       "      <th></th>\n",
       "      <th>CRIM</th>\n",
       "      <th>ZN</th>\n",
       "      <th>INDUS</th>\n",
       "      <th>CHAS</th>\n",
       "      <th>NOX</th>\n",
       "      <th>RM</th>\n",
       "      <th>AGE</th>\n",
       "      <th>DIS</th>\n",
       "      <th>RAD</th>\n",
       "      <th>TAX</th>\n",
       "      <th>PTRATIO</th>\n",
       "      <th>B</th>\n",
       "      <th>LSTAT</th>\n",
       "      <th>0</th>\n",
       "    </tr>\n",
       "  </thead>\n",
       "  <tbody>\n",
       "    <tr>\n",
       "      <th>0</th>\n",
       "      <td>0.00632</td>\n",
       "      <td>18.0</td>\n",
       "      <td>2.31</td>\n",
       "      <td>0.0</td>\n",
       "      <td>0.538</td>\n",
       "      <td>6.575</td>\n",
       "      <td>65.2</td>\n",
       "      <td>4.0900</td>\n",
       "      <td>1.0</td>\n",
       "      <td>296.0</td>\n",
       "      <td>15.3</td>\n",
       "      <td>396.90</td>\n",
       "      <td>4.98</td>\n",
       "      <td>24.0</td>\n",
       "    </tr>\n",
       "    <tr>\n",
       "      <th>1</th>\n",
       "      <td>0.02731</td>\n",
       "      <td>0.0</td>\n",
       "      <td>7.07</td>\n",
       "      <td>0.0</td>\n",
       "      <td>0.469</td>\n",
       "      <td>6.421</td>\n",
       "      <td>78.9</td>\n",
       "      <td>4.9671</td>\n",
       "      <td>2.0</td>\n",
       "      <td>242.0</td>\n",
       "      <td>17.8</td>\n",
       "      <td>396.90</td>\n",
       "      <td>9.14</td>\n",
       "      <td>21.6</td>\n",
       "    </tr>\n",
       "    <tr>\n",
       "      <th>2</th>\n",
       "      <td>0.02729</td>\n",
       "      <td>0.0</td>\n",
       "      <td>7.07</td>\n",
       "      <td>0.0</td>\n",
       "      <td>0.469</td>\n",
       "      <td>7.185</td>\n",
       "      <td>61.1</td>\n",
       "      <td>4.9671</td>\n",
       "      <td>2.0</td>\n",
       "      <td>242.0</td>\n",
       "      <td>17.8</td>\n",
       "      <td>392.83</td>\n",
       "      <td>4.03</td>\n",
       "      <td>34.7</td>\n",
       "    </tr>\n",
       "    <tr>\n",
       "      <th>3</th>\n",
       "      <td>0.03237</td>\n",
       "      <td>0.0</td>\n",
       "      <td>2.18</td>\n",
       "      <td>0.0</td>\n",
       "      <td>0.458</td>\n",
       "      <td>6.998</td>\n",
       "      <td>45.8</td>\n",
       "      <td>6.0622</td>\n",
       "      <td>3.0</td>\n",
       "      <td>222.0</td>\n",
       "      <td>18.7</td>\n",
       "      <td>394.63</td>\n",
       "      <td>2.94</td>\n",
       "      <td>33.4</td>\n",
       "    </tr>\n",
       "    <tr>\n",
       "      <th>4</th>\n",
       "      <td>0.06905</td>\n",
       "      <td>0.0</td>\n",
       "      <td>2.18</td>\n",
       "      <td>0.0</td>\n",
       "      <td>0.458</td>\n",
       "      <td>7.147</td>\n",
       "      <td>54.2</td>\n",
       "      <td>6.0622</td>\n",
       "      <td>3.0</td>\n",
       "      <td>222.0</td>\n",
       "      <td>18.7</td>\n",
       "      <td>396.90</td>\n",
       "      <td>5.33</td>\n",
       "      <td>36.2</td>\n",
       "    </tr>\n",
       "  </tbody>\n",
       "</table>\n",
       "</div>"
      ],
      "text/plain": [
       "      CRIM    ZN  INDUS  CHAS    NOX     RM   AGE     DIS  RAD    TAX  \\\n",
       "0  0.00632  18.0   2.31   0.0  0.538  6.575  65.2  4.0900  1.0  296.0   \n",
       "1  0.02731   0.0   7.07   0.0  0.469  6.421  78.9  4.9671  2.0  242.0   \n",
       "2  0.02729   0.0   7.07   0.0  0.469  7.185  61.1  4.9671  2.0  242.0   \n",
       "3  0.03237   0.0   2.18   0.0  0.458  6.998  45.8  6.0622  3.0  222.0   \n",
       "4  0.06905   0.0   2.18   0.0  0.458  7.147  54.2  6.0622  3.0  222.0   \n",
       "\n",
       "   PTRATIO       B  LSTAT     0  \n",
       "0     15.3  396.90   4.98  24.0  \n",
       "1     17.8  396.90   9.14  21.6  \n",
       "2     17.8  392.83   4.03  34.7  \n",
       "3     18.7  394.63   2.94  33.4  \n",
       "4     18.7  396.90   5.33  36.2  "
      ]
     },
     "execution_count": 19,
     "metadata": {},
     "output_type": "execute_result"
    }
   ],
   "source": [
    "X = pd.DataFrame(boston.data, columns=boston.feature_names)\n",
    "y = pd.DataFrame(boston.target)\n",
    "df_boston = pd.concat([X,y], axis=1)\n",
    "df_boston.head()"
   ]
  },
  {
   "cell_type": "code",
   "execution_count": 20,
   "id": "926328ad",
   "metadata": {
    "ExecuteTime": {
     "end_time": "2023-02-09T07:49:02.756531Z",
     "start_time": "2023-02-09T07:49:01.843457Z"
    }
   },
   "outputs": [
    {
     "data": {
      "text/plain": [
       "<AxesSubplot:>"
      ]
     },
     "execution_count": 20,
     "metadata": {},
     "output_type": "execute_result"
    },
    {
     "data": {
      "image/png": "[encoded data removed]",
      "text/plain": [
       "<Figure size 1200x1200 with 2 Axes>"
      ]
     },
     "metadata": {},
     "output_type": "display_data"
    }
   ],
   "source": [
    "import seaborn as sb\n",
    "\n",
    "plt.figure(figsize=(12,12))\n",
    "sb.heatmap(df_boston.corr(), annot=True)"
   ]
  },
  {
   "cell_type": "code",
   "execution_count": 21,
   "id": "3ba3f73f",
   "metadata": {
    "ExecuteTime": {
     "end_time": "2023-02-09T07:49:02.772563Z",
     "start_time": "2023-02-09T07:49:02.757564Z"
    }
   },
   "outputs": [
    {
     "data": {
      "text/plain": [
       "((354, 13), (152, 13), (354, 1), (152, 1))"
      ]
     },
     "execution_count": 21,
     "metadata": {},
     "output_type": "execute_result"
    }
   ],
   "source": [
    "# 훈련데이터와 평가데이터로 분리\n",
    "from sklearn.model_selection import train_test_split\n",
    "\n",
    "X_train, X_test, y_train, y_test = train_test_split(X, y, test_size=0.3, random_state=777)\n",
    "\n",
    "X_train.shape, X_test.shape, y_train.shape, y_test.shape"
   ]
  },
  {
   "cell_type": "code",
   "execution_count": 22,
   "id": "0649c09f",
   "metadata": {
    "ExecuteTime": {
     "end_time": "2023-02-09T07:49:02.820529Z",
     "start_time": "2023-02-09T07:49:02.774559Z"
    }
   },
   "outputs": [
    {
     "data": {
      "text/plain": [
       "LinearRegression()"
      ]
     },
     "execution_count": 22,
     "metadata": {},
     "output_type": "execute_result"
    }
   ],
   "source": [
    "# 선형 회귀를 이용해서 집값 예측\n",
    "from sklearn.linear_model import LinearRegression\n",
    "\n",
    "linear_model.fit(X_train,y_train)"
   ]
  },
  {
   "cell_type": "code",
   "execution_count": 23,
   "id": "613c489b",
   "metadata": {
    "ExecuteTime": {
     "end_time": "2023-02-09T07:49:02.836254Z",
     "start_time": "2023-02-09T07:49:02.824535Z"
    }
   },
   "outputs": [
    {
     "data": {
      "text/plain": [
       "0.7507803185682939"
      ]
     },
     "execution_count": 23,
     "metadata": {},
     "output_type": "execute_result"
    }
   ],
   "source": [
    "# score() : 회귀모델에서는 R2 score를 구함 - 유사도\n",
    "linear_model.score(X_train, y_train)"
   ]
  },
  {
   "cell_type": "code",
   "execution_count": 24,
   "id": "5ee56252",
   "metadata": {
    "ExecuteTime": {
     "end_time": "2023-02-09T07:49:02.851528Z",
     "start_time": "2023-02-09T07:49:02.838532Z"
    }
   },
   "outputs": [
    {
     "data": {
      "text/plain": [
       "0.700049817050999"
      ]
     },
     "execution_count": 24,
     "metadata": {},
     "output_type": "execute_result"
    }
   ],
   "source": [
    "linear_model.score(X_test, y_test)"
   ]
  },
  {
   "cell_type": "markdown",
   "id": "337d1ff6",
   "metadata": {},
   "source": [
    "### 모델 저장  "
   ]
  },
  {
   "cell_type": "code",
   "execution_count": 25,
   "id": "17961c0d",
   "metadata": {
    "ExecuteTime": {
     "end_time": "2023-02-09T07:49:02.867528Z",
     "start_time": "2023-02-09T07:49:02.853529Z"
    }
   },
   "outputs": [],
   "source": [
    "import pickle #파이썬에 사용하는 데이터타입 그대로 저장\n",
    "\n",
    "# wb : write\n",
    "with open(\"./model.pickle\",\"wb\") as f:\n",
    "    pickle.dump(linear_model, f)"
   ]
  },
  {
   "cell_type": "code",
   "execution_count": 26,
   "id": "d37061d4",
   "metadata": {
    "ExecuteTime": {
     "end_time": "2023-02-09T07:49:02.883546Z",
     "start_time": "2023-02-09T07:49:02.869530Z"
    }
   },
   "outputs": [],
   "source": [
    "# 모델 불러와서 사용\n",
    "with open(\"./model.pickle\",\"rb\") as f:\n",
    "    new_model = pickle.load(f)"
   ]
  },
  {
   "cell_type": "code",
   "execution_count": 27,
   "id": "31c32a13",
   "metadata": {
    "ExecuteTime": {
     "end_time": "2023-02-09T07:49:02.899529Z",
     "start_time": "2023-02-09T07:49:02.885529Z"
    }
   },
   "outputs": [
    {
     "data": {
      "text/plain": [
       "0.7507803185682939"
      ]
     },
     "execution_count": 27,
     "metadata": {},
     "output_type": "execute_result"
    }
   ],
   "source": [
    "new_model.score(X_train, y_train)"
   ]
  },
  {
   "cell_type": "code",
   "execution_count": 28,
   "id": "b7ee1b6f",
   "metadata": {
    "ExecuteTime": {
     "end_time": "2023-02-09T07:49:02.915529Z",
     "start_time": "2023-02-09T07:49:02.903529Z"
    }
   },
   "outputs": [
    {
     "name": "stdout",
     "output_type": "stream",
     "text": [
      "훈련 오차 :  21.024239146904783\n",
      "평가 오차 : \n"
     ]
    }
   ],
   "source": [
    "# 회귀모델 평가 - 오차, R2 score(유사도)\n",
    "from sklearn.metrics import mean_squared_error\n",
    "\n",
    "pre_train=new_model.predict(X_train)\n",
    "pre_test=new_model.predict(X_test)\n",
    "\n",
    "print(\"훈련 오차 : \",mean_squared_error(pre_train, y_train))\n",
    "print(\"평가 오차 : \",)"
   ]
  },
  {
   "cell_type": "markdown",
   "id": "b5ee9c49",
   "metadata": {},
   "source": [
    "### 경사하강법 사용"
   ]
  },
  {
   "cell_type": "code",
   "execution_count": 29,
   "id": "2985e0a6",
   "metadata": {
    "ExecuteTime": {
     "end_time": "2023-02-09T07:49:02.931529Z",
     "start_time": "2023-02-09T07:49:02.917529Z"
    }
   },
   "outputs": [],
   "source": [
    "# SGD Regressor 사용\n",
    "from sklearn.linear_model import SGDRegressor # 경사하강법이 적용된 모델"
   ]
  },
  {
   "cell_type": "code",
   "execution_count": 30,
   "id": "f526efdb",
   "metadata": {
    "ExecuteTime": {
     "end_time": "2023-02-09T07:49:02.947533Z",
     "start_time": "2023-02-09T07:49:02.933530Z"
    }
   },
   "outputs": [],
   "source": [
    "# 데이터 - 시간성적 데이터\n",
    "\n",
    "# 모델 생성\n",
    "# max_iter : 학습 횟수, 가중치 업데이트 반복 횟수(epochs)\n",
    "# eta0 : 학습률(Learning Rate) - 변동폭\n",
    "# verbose : 학습과정 표시 -> 0 : 출력하지않고 학습이 진행됨, 1 : 학습과정을 자세히 출력해 줌, 2 : 함축적인 정보만 출력해 줌\n",
    "sgd_model = SGDRegressor(max_iter = 5000, eta0 = 0.001, verbose = 1)"
   ]
  },
  {
   "cell_type": "code",
   "execution_count": 31,
   "id": "6eba29d7",
   "metadata": {
    "ExecuteTime": {
     "end_time": "2023-02-09T07:49:02.963541Z",
     "start_time": "2023-02-09T07:49:02.950529Z"
    }
   },
   "outputs": [
    {
     "name": "stdout",
     "output_type": "stream",
     "text": [
      "-- Epoch 1\n",
      "Norm: 1.40, NNZs: 1, Bias: 0.188394, T: 4, Avg. loss: 1872.600549\n",
      "Total training time: 0.00 seconds.\n",
      "-- Epoch 2\n",
      "Norm: 2.24, NNZs: 1, Bias: 0.306665, T: 8, Avg. loss: 1422.999621\n",
      "Total training time: 0.00 seconds.\n",
      "-- Epoch 3\n",
      "Norm: 2.94, NNZs: 1, Bias: 0.402747, T: 12, Avg. loss: 1161.121261\n",
      "Total training time: 0.00 seconds.\n",
      "-- Epoch 4\n",
      "Norm: 3.51, NNZs: 1, Bias: 0.482778, T: 16, Avg. loss: 962.115137\n",
      "Total training time: 0.00 seconds.\n",
      "-- Epoch 5\n",
      "Norm: 4.01, NNZs: 1, Bias: 0.552072, T: 20, Avg. loss: 811.247925\n",
      "Total training time: 0.00 seconds.\n",
      "-- Epoch 6\n",
      "Norm: 4.44, NNZs: 1, Bias: 0.612808, T: 24, Avg. loss: 688.877891\n",
      "Total training time: 0.00 seconds.\n",
      "-- Epoch 7\n",
      "Norm: 4.83, NNZs: 1, Bias: 0.666701, T: 28, Avg. loss: 590.599912\n",
      "Total training time: 0.00 seconds.\n",
      "-- Epoch 8\n",
      "Norm: 5.18, NNZs: 1, Bias: 0.715052, T: 32, Avg. loss: 508.545569\n",
      "Total training time: 0.00 seconds.\n",
      "-- Epoch 9\n",
      "Norm: 5.50, NNZs: 1, Bias: 0.758545, T: 36, Avg. loss: 440.731401\n",
      "Total training time: 0.00 seconds.\n",
      "-- Epoch 10\n",
      "Norm: 5.78, NNZs: 1, Bias: 0.798105, T: 40, Avg. loss: 383.122890\n",
      "Total training time: 0.00 seconds.\n",
      "-- Epoch 11\n",
      "Norm: 6.04, NNZs: 1, Bias: 0.834011, T: 44, Avg. loss: 334.653595\n",
      "Total training time: 0.00 seconds.\n",
      "-- Epoch 12\n",
      "Norm: 6.28, NNZs: 1, Bias: 0.866970, T: 48, Avg. loss: 292.986270\n",
      "Total training time: 0.00 seconds.\n",
      "-- Epoch 13\n",
      "Norm: 6.50, NNZs: 1, Bias: 0.897079, T: 52, Avg. loss: 257.487439\n",
      "Total training time: 0.00 seconds.\n",
      "-- Epoch 14\n",
      "Norm: 6.70, NNZs: 1, Bias: 0.924901, T: 56, Avg. loss: 226.699511\n",
      "Total training time: 0.00 seconds.\n",
      "-- Epoch 15\n",
      "Norm: 6.89, NNZs: 1, Bias: 0.950442, T: 60, Avg. loss: 200.221289\n",
      "Total training time: 0.00 seconds.\n",
      "-- Epoch 16\n",
      "Norm: 7.06, NNZs: 1, Bias: 0.974164, T: 64, Avg. loss: 177.097442\n",
      "Total training time: 0.00 seconds.\n",
      "-- Epoch 17\n",
      "Norm: 7.22, NNZs: 1, Bias: 0.996024, T: 68, Avg. loss: 157.062204\n",
      "Total training time: 0.00 seconds.\n",
      "-- Epoch 18\n",
      "Norm: 7.36, NNZs: 1, Bias: 1.016410, T: 72, Avg. loss: 139.466501\n",
      "Total training time: 0.00 seconds.\n",
      "-- Epoch 19\n",
      "Norm: 7.50, NNZs: 1, Bias: 1.035256, T: 76, Avg. loss: 124.128291\n",
      "Total training time: 0.00 seconds.\n",
      "-- Epoch 20\n",
      "Norm: 7.63, NNZs: 1, Bias: 1.052889, T: 80, Avg. loss: 110.594355\n",
      "Total training time: 0.00 seconds.\n",
      "-- Epoch 21\n",
      "Norm: 7.75, NNZs: 1, Bias: 1.069232, T: 84, Avg. loss: 98.736706\n",
      "Total training time: 0.00 seconds.\n",
      "-- Epoch 22\n",
      "Norm: 7.86, NNZs: 1, Bias: 1.084565, T: 88, Avg. loss: 88.231983\n",
      "Total training time: 0.00 seconds.\n",
      "-- Epoch 23\n",
      "Norm: 7.97, NNZs: 1, Bias: 1.098808, T: 92, Avg. loss: 78.988293\n",
      "Total training time: 0.00 seconds.\n",
      "-- Epoch 24\n",
      "Norm: 8.06, NNZs: 1, Bias: 1.112202, T: 96, Avg. loss: 70.770856\n",
      "Total training time: 0.00 seconds.\n",
      "-- Epoch 25\n",
      "Norm: 8.16, NNZs: 1, Bias: 1.124668, T: 100, Avg. loss: 63.512533\n",
      "Total training time: 0.00 seconds.\n",
      "-- Epoch 26\n",
      "Norm: 8.24, NNZs: 1, Bias: 1.136414, T: 104, Avg. loss: 57.040374\n",
      "Total training time: 0.00 seconds.\n",
      "-- Epoch 27\n",
      "Norm: 8.32, NNZs: 1, Bias: 1.147364, T: 108, Avg. loss: 51.304594\n",
      "Total training time: 0.00 seconds.\n",
      "-- Epoch 28\n",
      "Norm: 8.40, NNZs: 1, Bias: 1.157700, T: 112, Avg. loss: 46.176222\n",
      "Total training time: 0.00 seconds.\n",
      "-- Epoch 29\n",
      "Norm: 8.47, NNZs: 1, Bias: 1.167349, T: 116, Avg. loss: 41.617865\n",
      "Total training time: 0.00 seconds.\n",
      "-- Epoch 30\n",
      "Norm: 8.54, NNZs: 1, Bias: 1.176471, T: 120, Avg. loss: 37.532340\n",
      "Total training time: 0.00 seconds.\n",
      "-- Epoch 31\n",
      "Norm: 8.60, NNZs: 1, Bias: 1.184996, T: 124, Avg. loss: 33.891244\n",
      "Total training time: 0.00 seconds.\n",
      "-- Epoch 32\n",
      "Norm: 8.66, NNZs: 1, Bias: 1.193068, T: 128, Avg. loss: 30.620678\n",
      "Total training time: 0.00 seconds.\n",
      "-- Epoch 33\n",
      "Norm: 8.72, NNZs: 1, Bias: 1.200619, T: 132, Avg. loss: 27.698850\n",
      "Total training time: 0.00 seconds.\n",
      "-- Epoch 34\n",
      "Norm: 8.77, NNZs: 1, Bias: 1.207778, T: 136, Avg. loss: 25.069125\n",
      "Total training time: 0.00 seconds.\n",
      "-- Epoch 35\n",
      "Norm: 8.82, NNZs: 1, Bias: 1.214481, T: 140, Avg. loss: 22.714625\n",
      "Total training time: 0.00 seconds.\n",
      "-- Epoch 36\n",
      "Norm: 8.87, NNZs: 1, Bias: 1.220842, T: 144, Avg. loss: 20.591646\n",
      "Total training time: 0.00 seconds.\n",
      "-- Epoch 37\n",
      "Norm: 8.91, NNZs: 1, Bias: 1.226803, T: 148, Avg. loss: 18.687007\n",
      "Total training time: 0.00 seconds.\n",
      "-- Epoch 38\n",
      "Norm: 8.96, NNZs: 1, Bias: 1.232466, T: 152, Avg. loss: 16.966773\n",
      "Total training time: 0.00 seconds.\n",
      "-- Epoch 39\n",
      "Norm: 9.00, NNZs: 1, Bias: 1.237776, T: 156, Avg. loss: 15.420571\n",
      "Total training time: 0.00 seconds.\n",
      "-- Epoch 40\n",
      "Norm: 9.03, NNZs: 1, Bias: 1.242825, T: 160, Avg. loss: 14.021907\n",
      "Total training time: 0.00 seconds.\n",
      "-- Epoch 41\n",
      "Norm: 9.07, NNZs: 1, Bias: 1.247563, T: 164, Avg. loss: 12.762559\n",
      "Total training time: 0.00 seconds.\n",
      "-- Epoch 42\n",
      "Norm: 9.10, NNZs: 1, Bias: 1.252071, T: 168, Avg. loss: 11.621740\n",
      "Total training time: 0.00 seconds.\n",
      "-- Epoch 43\n",
      "Norm: 9.14, NNZs: 1, Bias: 1.256302, T: 172, Avg. loss: 10.592890\n",
      "Total training time: 0.00 seconds.\n",
      "-- Epoch 44\n",
      "Norm: 9.17, NNZs: 1, Bias: 1.260332, T: 176, Avg. loss: 9.659631\n",
      "Total training time: 0.00 seconds.\n",
      "-- Epoch 45\n",
      "Norm: 9.20, NNZs: 1, Bias: 1.264116, T: 180, Avg. loss: 8.816690\n",
      "Total training time: 0.00 seconds.\n",
      "-- Epoch 46\n",
      "Norm: 9.22, NNZs: 1, Bias: 1.267722, T: 184, Avg. loss: 8.051114\n",
      "Total training time: 0.00 seconds.\n",
      "-- Epoch 47\n",
      "Norm: 9.25, NNZs: 1, Bias: 1.271109, T: 188, Avg. loss: 7.358642\n",
      "Total training time: 0.00 seconds.\n",
      "-- Epoch 48\n",
      "Norm: 9.28, NNZs: 1, Bias: 1.274338, T: 192, Avg. loss: 6.728991\n",
      "Total training time: 0.00 seconds.\n",
      "-- Epoch 49\n",
      "Norm: 9.30, NNZs: 1, Bias: 1.277372, T: 196, Avg. loss: 6.158696\n",
      "Total training time: 0.00 seconds.\n",
      "-- Epoch 50\n",
      "Norm: 9.32, NNZs: 1, Bias: 1.280266, T: 200, Avg. loss: 5.639572\n",
      "Total training time: 0.00 seconds.\n",
      "-- Epoch 51\n",
      "Norm: 9.34, NNZs: 1, Bias: 1.282986, T: 204, Avg. loss: 5.168785\n",
      "Total training time: 0.00 seconds.\n",
      "-- Epoch 52\n",
      "Norm: 9.36, NNZs: 1, Bias: 1.285581, T: 208, Avg. loss: 4.739801\n",
      "Total training time: 0.00 seconds.\n",
      "-- Epoch 53\n",
      "Norm: 9.38, NNZs: 1, Bias: 1.288020, T: 212, Avg. loss: 4.350287\n",
      "Total training time: 0.00 seconds.\n",
      "-- Epoch 54\n",
      "Norm: 9.40, NNZs: 1, Bias: 1.290348, T: 216, Avg. loss: 3.995018\n",
      "Total training time: 0.00 seconds.\n",
      "-- Epoch 55\n",
      "Norm: 9.42, NNZs: 1, Bias: 1.292535, T: 220, Avg. loss: 3.672063\n",
      "Total training time: 0.00 seconds.\n",
      "-- Epoch 56\n",
      "Norm: 9.44, NNZs: 1, Bias: 1.294625, T: 224, Avg. loss: 3.377233\n",
      "Total training time: 0.00 seconds.\n",
      "-- Epoch 57\n",
      "Norm: 9.45, NNZs: 1, Bias: 1.296587, T: 228, Avg. loss: 3.108923\n",
      "Total training time: 0.00 seconds.\n",
      "-- Epoch 58\n",
      "Norm: 9.47, NNZs: 1, Bias: 1.298462, T: 232, Avg. loss: 2.863770\n",
      "Total training time: 0.00 seconds.\n",
      "-- Epoch 59\n",
      "Norm: 9.48, NNZs: 1, Bias: 1.300222, T: 236, Avg. loss: 2.640431\n",
      "Total training time: 0.00 seconds.\n",
      "-- Epoch 60\n",
      "Norm: 9.50, NNZs: 1, Bias: 1.301905, T: 240, Avg. loss: 2.436202\n",
      "Total training time: 0.00 seconds.\n",
      "-- Epoch 61\n",
      "Norm: 9.51, NNZs: 1, Bias: 1.303484, T: 244, Avg. loss: 2.249957\n",
      "Total training time: 0.00 seconds.\n",
      "-- Epoch 62\n",
      "Norm: 9.52, NNZs: 1, Bias: 1.304994, T: 248, Avg. loss: 2.079517\n",
      "Total training time: 0.00 seconds.\n",
      "-- Epoch 63\n",
      "Norm: 9.54, NNZs: 1, Bias: 1.306410, T: 252, Avg. loss: 1.923932\n",
      "Total training time: 0.00 seconds.\n",
      "-- Epoch 64\n",
      "Norm: 9.55, NNZs: 1, Bias: 1.307764, T: 256, Avg. loss: 1.781448\n",
      "Total training time: 0.00 seconds.\n",
      "-- Epoch 65\n",
      "Norm: 9.56, NNZs: 1, Bias: 1.309033, T: 260, Avg. loss: 1.651258\n",
      "Total training time: 0.00 seconds.\n",
      "-- Epoch 66\n",
      "Norm: 9.57, NNZs: 1, Bias: 1.310247, T: 264, Avg. loss: 1.531950\n",
      "Total training time: 0.00 seconds.\n",
      "-- Epoch 67\n",
      "Norm: 9.58, NNZs: 1, Bias: 1.311383, T: 268, Avg. loss: 1.422834\n",
      "Total training time: 0.00 seconds.\n",
      "-- Epoch 68\n",
      "Norm: 9.59, NNZs: 1, Bias: 1.312470, T: 272, Avg. loss: 1.322776\n",
      "Total training time: 0.00 seconds.\n",
      "-- Epoch 69\n",
      "Norm: 9.60, NNZs: 1, Bias: 1.313486, T: 276, Avg. loss: 1.231182\n",
      "Total training time: 0.00 seconds.\n",
      "-- Epoch 70\n",
      "Norm: 9.61, NNZs: 1, Bias: 1.314459, T: 280, Avg. loss: 1.147140\n",
      "Total training time: 0.00 seconds.\n",
      "-- Epoch 71\n",
      "Norm: 9.61, NNZs: 1, Bias: 1.315367, T: 284, Avg. loss: 1.070140\n",
      "Total training time: 0.00 seconds.\n",
      "-- Epoch 72\n",
      "Norm: 9.62, NNZs: 1, Bias: 1.316236, T: 288, Avg. loss: 0.999449\n",
      "Total training time: 0.00 seconds.\n",
      "-- Epoch 73\n",
      "Norm: 9.63, NNZs: 1, Bias: 1.317047, T: 292, Avg. loss: 0.934624\n",
      "Total training time: 0.00 seconds.\n",
      "-- Epoch 74\n",
      "Norm: 9.64, NNZs: 1, Bias: 1.317822, T: 296, Avg. loss: 0.875079\n",
      "Total training time: 0.00 seconds.\n",
      "-- Epoch 75\n",
      "Norm: 9.64, NNZs: 1, Bias: 1.318543, T: 300, Avg. loss: 0.820429\n",
      "Total training time: 0.00 seconds.\n",
      "-- Epoch 76\n",
      "Norm: 9.65, NNZs: 1, Bias: 1.319234, T: 304, Avg. loss: 0.770205\n",
      "Total training time: 0.00 seconds.\n",
      "-- Epoch 77\n",
      "Norm: 9.66, NNZs: 1, Bias: 1.319875, T: 308, Avg. loss: 0.724071\n",
      "Total training time: 0.00 seconds.\n",
      "-- Epoch 78\n",
      "Norm: 9.66, NNZs: 1, Bias: 1.320488, T: 312, Avg. loss: 0.681653\n",
      "Total training time: 0.00 seconds.\n",
      "-- Epoch 79\n",
      "Norm: 9.67, NNZs: 1, Bias: 1.321056, T: 316, Avg. loss: 0.642657\n",
      "Total training time: 0.00 seconds.\n",
      "-- Epoch 80\n",
      "Norm: 9.68, NNZs: 1, Bias: 1.321600, T: 320, Avg. loss: 0.606787\n",
      "Total training time: 0.00 seconds.\n",
      "-- Epoch 81\n",
      "Norm: 9.68, NNZs: 1, Bias: 1.322102, T: 324, Avg. loss: 0.573782\n",
      "Total training time: 0.00 seconds.\n",
      "-- Epoch 82\n",
      "Norm: 9.69, NNZs: 1, Bias: 1.322581, T: 328, Avg. loss: 0.543412\n",
      "Total training time: 0.00 seconds.\n",
      "-- Epoch 83\n",
      "Norm: 9.69, NNZs: 1, Bias: 1.323023, T: 332, Avg. loss: 0.515444\n",
      "Total training time: 0.00 seconds.\n",
      "-- Epoch 84\n",
      "Norm: 9.70, NNZs: 1, Bias: 1.323445, T: 336, Avg. loss: 0.489699\n",
      "Total training time: 0.00 seconds.\n",
      "-- Epoch 85\n",
      "Norm: 9.70, NNZs: 1, Bias: 1.323832, T: 340, Avg. loss: 0.465971\n",
      "Total training time: 0.00 seconds.\n",
      "-- Epoch 86\n",
      "Norm: 9.70, NNZs: 1, Bias: 1.324201, T: 344, Avg. loss: 0.444121\n",
      "Total training time: 0.00 seconds.\n",
      "-- Epoch 87\n",
      "Norm: 9.71, NNZs: 1, Bias: 1.324538, T: 348, Avg. loss: 0.423966\n",
      "Total training time: 0.00 seconds.\n",
      "-- Epoch 88\n",
      "Norm: 9.71, NNZs: 1, Bias: 1.324860, T: 352, Avg. loss: 0.405401\n",
      "Total training time: 0.00 seconds.\n",
      "-- Epoch 89\n",
      "Norm: 9.72, NNZs: 1, Bias: 1.325151, T: 356, Avg. loss: 0.388261\n",
      "Total training time: 0.00 seconds.\n",
      "-- Epoch 90\n",
      "Norm: 9.72, NNZs: 1, Bias: 1.325429, T: 360, Avg. loss: 0.372469\n",
      "Total training time: 0.00 seconds.\n",
      "-- Epoch 91\n",
      "Norm: 9.72, NNZs: 1, Bias: 1.325679, T: 364, Avg. loss: 0.357877\n",
      "Total training time: 0.00 seconds.\n",
      "-- Epoch 92\n",
      "Norm: 9.73, NNZs: 1, Bias: 1.325917, T: 368, Avg. loss: 0.344430\n",
      "Total training time: 0.00 seconds.\n",
      "-- Epoch 93\n",
      "Norm: 9.73, NNZs: 1, Bias: 1.326130, T: 372, Avg. loss: 0.331992\n",
      "Total training time: 0.00 seconds.\n",
      "-- Epoch 94\n",
      "Norm: 9.73, NNZs: 1, Bias: 1.326331, T: 376, Avg. loss: 0.320529\n",
      "Total training time: 0.00 seconds.\n",
      "-- Epoch 95\n",
      "Norm: 9.74, NNZs: 1, Bias: 1.326509, T: 380, Avg. loss: 0.309916\n",
      "Total training time: 0.00 seconds.\n",
      "-- Epoch 96\n",
      "Norm: 9.74, NNZs: 1, Bias: 1.326678, T: 384, Avg. loss: 0.300133\n",
      "Total training time: 0.00 seconds.\n",
      "-- Epoch 97\n",
      "Norm: 9.74, NNZs: 1, Bias: 1.326825, T: 388, Avg. loss: 0.291068\n",
      "Total training time: 0.00 seconds.\n",
      "-- Epoch 98\n",
      "Norm: 9.75, NNZs: 1, Bias: 1.326963, T: 392, Avg. loss: 0.282710\n",
      "Total training time: 0.00 seconds.\n",
      "-- Epoch 99\n",
      "Norm: 9.75, NNZs: 1, Bias: 1.327081, T: 396, Avg. loss: 0.274958\n",
      "Total training time: 0.00 seconds.\n",
      "-- Epoch 100\n",
      "Norm: 9.75, NNZs: 1, Bias: 1.327191, T: 400, Avg. loss: 0.267811\n",
      "Total training time: 0.00 seconds.\n",
      "-- Epoch 101\n",
      "Norm: 9.75, NNZs: 1, Bias: 1.327283, T: 404, Avg. loss: 0.261174\n",
      "Total training time: 0.00 seconds.\n",
      "-- Epoch 102\n",
      "Norm: 9.75, NNZs: 1, Bias: 1.327368, T: 408, Avg. loss: 0.255055\n",
      "Total training time: 0.00 seconds.\n",
      "-- Epoch 103\n",
      "Norm: 9.76, NNZs: 1, Bias: 1.327436, T: 412, Avg. loss: 0.249368\n",
      "Total training time: 0.00 seconds.\n",
      "-- Epoch 104\n",
      "Norm: 9.76, NNZs: 1, Bias: 1.327498, T: 416, Avg. loss: 0.244124\n",
      "Total training time: 0.00 seconds.\n",
      "-- Epoch 105\n",
      "Norm: 9.76, NNZs: 1, Bias: 1.327544, T: 420, Avg. loss: 0.239243\n",
      "Total training time: 0.00 seconds.\n",
      "-- Epoch 106\n",
      "Norm: 9.76, NNZs: 1, Bias: 1.327585, T: 424, Avg. loss: 0.234745\n",
      "Total training time: 0.00 seconds.\n",
      "-- Epoch 107\n",
      "Norm: 9.76, NNZs: 1, Bias: 1.327611, T: 428, Avg. loss: 0.230552\n",
      "Total training time: 0.00 seconds.\n",
      "-- Epoch 108\n",
      "Norm: 9.77, NNZs: 1, Bias: 1.327633, T: 432, Avg. loss: 0.226689\n",
      "Total training time: 0.00 seconds.\n",
      "-- Epoch 109\n",
      "Norm: 9.77, NNZs: 1, Bias: 1.327640, T: 436, Avg. loss: 0.223084\n",
      "Total training time: 0.00 seconds.\n",
      "-- Epoch 110\n",
      "Norm: 9.77, NNZs: 1, Bias: 1.327644, T: 440, Avg. loss: 0.219761\n",
      "Total training time: 0.00 seconds.\n",
      "-- Epoch 111\n",
      "Norm: 9.77, NNZs: 1, Bias: 1.327634, T: 444, Avg. loss: 0.216657\n",
      "Total training time: 0.00 seconds.\n",
      "-- Epoch 112\n",
      "Norm: 9.77, NNZs: 1, Bias: 1.327622, T: 448, Avg. loss: 0.213798\n",
      "Total training time: 0.00 seconds.\n",
      "-- Epoch 113\n",
      "Norm: 9.77, NNZs: 1, Bias: 1.327597, T: 452, Avg. loss: 0.211122\n",
      "Total training time: 0.00 seconds.\n",
      "-- Epoch 114\n",
      "Norm: 9.78, NNZs: 1, Bias: 1.327570, T: 456, Avg. loss: 0.208658\n",
      "Total training time: 0.00 seconds.\n",
      "-- Epoch 115\n",
      "Norm: 9.78, NNZs: 1, Bias: 1.327531, T: 460, Avg. loss: 0.206348\n",
      "Total training time: 0.00 seconds.\n",
      "-- Epoch 116\n",
      "Norm: 9.78, NNZs: 1, Bias: 1.327491, T: 464, Avg. loss: 0.204222\n",
      "Total training time: 0.00 seconds.\n",
      "-- Epoch 117\n",
      "Norm: 9.78, NNZs: 1, Bias: 1.327439, T: 468, Avg. loss: 0.202226\n",
      "Total training time: 0.00 seconds.\n",
      "-- Epoch 118\n",
      "Norm: 9.78, NNZs: 1, Bias: 1.327386, T: 472, Avg. loss: 0.200389\n",
      "Total training time: 0.00 seconds.\n",
      "-- Epoch 119\n",
      "Norm: 9.78, NNZs: 1, Bias: 1.327322, T: 476, Avg. loss: 0.198662\n",
      "Total training time: 0.00 seconds.\n",
      "-- Epoch 120\n",
      "Norm: 9.78, NNZs: 1, Bias: 1.327257, T: 480, Avg. loss: 0.197073\n",
      "Total training time: 0.00 seconds.\n",
      "-- Epoch 121\n",
      "Norm: 9.78, NNZs: 1, Bias: 1.327183, T: 484, Avg. loss: 0.195575\n",
      "Total training time: 0.00 seconds.\n",
      "-- Epoch 122\n",
      "Norm: 9.79, NNZs: 1, Bias: 1.327108, T: 488, Avg. loss: 0.194199\n",
      "Total training time: 0.00 seconds.\n",
      "-- Epoch 123\n",
      "Norm: 9.79, NNZs: 1, Bias: 1.327023, T: 492, Avg. loss: 0.192899\n",
      "Total training time: 0.00 seconds.\n",
      "-- Epoch 124\n",
      "Norm: 9.79, NNZs: 1, Bias: 1.326939, T: 496, Avg. loss: 0.191706\n",
      "Total training time: 0.00 seconds.\n",
      "-- Epoch 125\n",
      "Norm: 9.79, NNZs: 1, Bias: 1.326845, T: 500, Avg. loss: 0.190576\n",
      "Total training time: 0.00 seconds.\n",
      "-- Epoch 126\n",
      "Norm: 9.79, NNZs: 1, Bias: 1.326752, T: 504, Avg. loss: 0.189539\n",
      "Total training time: 0.00 seconds.\n",
      "-- Epoch 127\n",
      "Norm: 9.79, NNZs: 1, Bias: 1.326649, T: 508, Avg. loss: 0.188554\n",
      "Total training time: 0.00 seconds.\n",
      "-- Epoch 128\n",
      "Norm: 9.79, NNZs: 1, Bias: 1.326548, T: 512, Avg. loss: 0.187652\n",
      "Total training time: 0.00 seconds.\n",
      "-- Epoch 129\n",
      "Norm: 9.79, NNZs: 1, Bias: 1.326438, T: 516, Avg. loss: 0.186793\n",
      "Total training time: 0.00 seconds.\n",
      "-- Epoch 130\n",
      "Norm: 9.79, NNZs: 1, Bias: 1.326330, T: 520, Avg. loss: 0.186006\n",
      "Total training time: 0.00 seconds.\n",
      "-- Epoch 131\n",
      "Norm: 9.79, NNZs: 1, Bias: 1.326213, T: 524, Avg. loss: 0.185255\n",
      "Total training time: 0.00 seconds.\n",
      "Convergence after 131 epochs took 0.00 seconds\n"
     ]
    },
    {
     "data": {
      "text/plain": [
       "SGDRegressor(eta0=0.001, max_iter=5000, verbose=1)"
      ]
     },
     "execution_count": 31,
     "metadata": {},
     "output_type": "execute_result"
    }
   ],
   "source": [
    "# 학습\n",
    "# 반복횟수가 다 차지않더라도 학습이 멈추게 됨 -> 최적의 w,b를 찾았다고 생각하기 때문에!\n",
    "# Norm - 가중치, 기울기 -> w\n",
    "# Bias - 절편 -> b\n",
    "# loss - 비용함수(MSE)\n",
    "sgd_model.fit(data[['시간']], data['성적'])"
   ]
  },
  {
   "cell_type": "code",
   "execution_count": 32,
   "id": "6f77bbe7",
   "metadata": {
    "ExecuteTime": {
     "end_time": "2023-02-09T07:54:31.029976Z",
     "start_time": "2023-02-09T07:54:31.009975Z"
    }
   },
   "outputs": [
    {
     "name": "stderr",
     "output_type": "stream",
     "text": [
      "C:\\Users\\smhrd\\anaconda3\\lib\\site-packages\\sklearn\\base.py:450: UserWarning: X does not have valid feature names, but SGDRegressor was fitted with feature names\n",
      "  warnings.warn(\n"
     ]
    },
    {
     "data": {
      "text/plain": [
       "array([69.8830446])"
      ]
     },
     "execution_count": 32,
     "metadata": {},
     "output_type": "execute_result"
    }
   ],
   "source": [
    "# y = 9.79x + 0.18\n",
    "# y = 10x\n",
    "\n",
    "# 예측\n",
    "sgd_model.predict([[7]])"
   ]
  },
  {
   "cell_type": "code",
   "execution_count": 33,
   "id": "d150f48a",
   "metadata": {
    "ExecuteTime": {
     "end_time": "2023-02-09T07:56:50.789993Z",
     "start_time": "2023-02-09T07:56:50.785980Z"
    }
   },
   "outputs": [
    {
     "name": "stdout",
     "output_type": "stream",
     "text": [
      "[9.79383312]\n",
      "[1.32621275]\n"
     ]
    }
   ],
   "source": [
    "# 가중치, 기울기, 계수 출력\n",
    "print(sgd_model.coef_)\n",
    "# 절편, 편향 출력\n",
    "print(sgd_model.intercept_)"
   ]
  },
  {
   "cell_type": "code",
   "execution_count": 34,
   "id": "13ad11da",
   "metadata": {
    "ExecuteTime": {
     "end_time": "2023-02-09T07:57:39.799537Z",
     "start_time": "2023-02-09T07:57:39.787536Z"
    }
   },
   "outputs": [
    {
     "data": {
      "text/plain": [
       "0.9995507549747388"
      ]
     },
     "execution_count": 34,
     "metadata": {},
     "output_type": "execute_result"
    }
   ],
   "source": [
    "# r-squared, R2_score -> 같은 의미\n",
    "\n",
    "# 1에 가까울수록 예측을 잘 해내고 있음을 의미\n",
    "# 회귀성능평가 - score -> R2 score\n",
    "sgd_model.score(data[['시간']], data['성적'])"
   ]
  },
  {
   "cell_type": "code",
   "execution_count": null,
   "id": "1804fe63",
   "metadata": {},
   "outputs": [],
   "source": []
  },
  {
   "cell_type": "code",
   "execution_count": null,
   "id": "45bd6b40",
   "metadata": {},
   "outputs": [],
   "source": []
  },
  {
   "cell_type": "code",
   "execution_count": null,
   "id": "da8da3cc",
   "metadata": {},
   "outputs": [],
   "source": []
  },
  {
   "cell_type": "code",
   "execution_count": null,
   "id": "af83c07d",
   "metadata": {},
   "outputs": [],
   "source": []
  },
  {
   "cell_type": "code",
   "execution_count": null,
   "id": "0bb5c3fb",
   "metadata": {},
   "outputs": [],
   "source": []
  },
  {
   "cell_type": "code",
   "execution_count": null,
   "id": "671d4e2f",
   "metadata": {},
   "outputs": [],
   "source": []
  },
  {
   "cell_type": "code",
   "execution_count": null,
   "id": "62710730",
   "metadata": {},
   "outputs": [],
   "source": []
  },
  {
   "cell_type": "code",
   "execution_count": null,
   "id": "38e208c2",
   "metadata": {},
   "outputs": [],
   "source": []
  },
  {
   "cell_type": "code",
   "execution_count": null,
   "id": "00906ca0",
   "metadata": {},
   "outputs": [],
   "source": []
  }
 ],
 "metadata": {
  "kernelspec": {
   "display_name": "Python 3 (ipykernel)",
   "language": "python",
   "name": "python3"
  },
  "language_info": {
   "codemirror_mode": {
    "name": "ipython",
    "version": 3
   },
   "file_extension": ".py",
   "mimetype": "text/x-python",
   "name": "python",
   "nbconvert_exporter": "python",
   "pygments_lexer": "ipython3",
   "version": "3.9.13"
  },
  "toc": {
   "base_numbering": 1,
   "nav_menu": {},
   "number_sections": true,
   "sideBar": true,
   "skip_h1_title": false,
   "title_cell": "Table of Contents",
   "title_sidebar": "Contents",
   "toc_cell": false,
   "toc_position": {},
   "toc_section_display": true,
   "toc_window_display": false
  }
 },
 "nbformat": 4,
 "nbformat_minor": 5
}
