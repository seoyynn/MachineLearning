{
 "cells": [
  {
   "cell_type": "code",
   "execution_count": 1,
   "id": "77760446",
   "metadata": {
    "ExecuteTime": {
     "end_time": "2023-02-08T05:35:29.227324Z",
     "start_time": "2023-02-08T05:35:27.823241Z"
    }
   },
   "outputs": [],
   "source": [
    "import numpy as np\n",
    "import pandas as pd\n",
    "import matplotlib.pyplot as plt\n",
    "\n",
    "# KNN 모델\n",
    "from sklearn.neighbors import KNeighborsClassifier\n",
    "# 결정트리 모델\n",
    "from sklearn.tree import DecisionTreeClassifier\n",
    "# 랜덤포레스트 모델\n",
    "from sklearn.ensemble import RandomForestClassifier\n",
    "\n",
    "# iris 데이터\n",
    "from sklearn.datasets import load_iris\n",
    "from sklearn.model_selection import train_test_split\n",
    "\n",
    "# 그리드 서치 임포트\n",
    "from sklearn.model_selection import GridSearchCV"
   ]
  },
  {
   "cell_type": "code",
   "execution_count": 2,
   "id": "5553e91f",
   "metadata": {
    "ExecuteTime": {
     "end_time": "2023-02-08T05:39:14.620423Z",
     "start_time": "2023-02-08T05:39:14.603422Z"
    }
   },
   "outputs": [],
   "source": [
    "iris = load_iris()\n",
    "\n",
    "X_train, X_test, y_train, y_test = train_test_split(iris['data'], iris['target'], test_size = 0.3, random_state = 3)"
   ]
  },
  {
   "cell_type": "code",
   "execution_count": 3,
   "id": "356a1c2e",
   "metadata": {
    "ExecuteTime": {
     "end_time": "2023-02-08T05:40:08.314259Z",
     "start_time": "2023-02-08T05:40:08.290364Z"
    }
   },
   "outputs": [
    {
     "data": {
      "text/plain": [
       "((105, 4), (105,), (45, 4), (45,))"
      ]
     },
     "execution_count": 3,
     "metadata": {},
     "output_type": "execute_result"
    }
   ],
   "source": [
    "X_train.shape, y_train.shape, X_test.shape, y_test.shape"
   ]
  },
  {
   "cell_type": "markdown",
   "id": "26c3eff0",
   "metadata": {},
   "source": [
    "### KNN 모델에 그리드 서치 적용"
   ]
  },
  {
   "cell_type": "code",
   "execution_count": 4,
   "id": "808a3136",
   "metadata": {
    "ExecuteTime": {
     "end_time": "2023-02-08T05:46:38.338302Z",
     "start_time": "2023-02-08T05:46:38.324300Z"
    }
   },
   "outputs": [],
   "source": [
    "param_knn = {'n_neighbors':range(1,10,1)}\n",
    "\n",
    "# GridSearchCV(모델, 하이퍼파라미터 및 범위, 교차검증 수)\n",
    "grid_search_knn = GridSearchCV(KNeighborsClassifier(), param_knn, cv=10)"
   ]
  },
  {
   "cell_type": "code",
   "execution_count": 6,
   "id": "b29122e9",
   "metadata": {
    "ExecuteTime": {
     "end_time": "2023-02-08T05:48:24.487214Z",
     "start_time": "2023-02-08T05:48:24.484228Z"
    }
   },
   "outputs": [],
   "source": [
    "import warnings\n",
    "warnings.filterwarnings('ignore')"
   ]
  },
  {
   "cell_type": "code",
   "execution_count": 7,
   "id": "a3dbd3df",
   "metadata": {
    "ExecuteTime": {
     "end_time": "2023-02-08T05:48:35.770407Z",
     "start_time": "2023-02-08T05:48:35.626867Z"
    }
   },
   "outputs": [
    {
     "data": {
      "text/plain": [
       "GridSearchCV(cv=10, estimator=KNeighborsClassifier(),\n",
       "             param_grid={'n_neighbors': range(1, 10)})"
      ]
     },
     "execution_count": 7,
     "metadata": {},
     "output_type": "execute_result"
    }
   ],
   "source": [
    "grid_search_knn.fit(X_train, y_train)"
   ]
  },
  {
   "cell_type": "code",
   "execution_count": 8,
   "id": "72ff6b05",
   "metadata": {
    "ExecuteTime": {
     "end_time": "2023-02-08T05:51:34.770153Z",
     "start_time": "2023-02-08T05:51:34.756154Z"
    }
   },
   "outputs": [
    {
     "name": "stdout",
     "output_type": "stream",
     "text": [
      "최적의 하이퍼 파라미터 :  {'n_neighbors': 9}\n",
      "최고 교차 검증 점수(정확도) :  0.970909090909091\n",
      "최고 성능 모델 :  KNeighborsClassifier(n_neighbors=9)\n"
     ]
    }
   ],
   "source": [
    "print(\"최적의 하이퍼 파라미터 : \", grid_search_knn.best_params_)\n",
    "print(\"최고 교차 검증 점수(정확도) : \", grid_search_knn.best_score_)\n",
    "# 최고 성능 모델은 grid_search_knn 객체에 저장되어 있기 때문에 쓰지 않아도 됨\n",
    "print(\"최고 성능 모델 : \", grid_search_knn.best_estimator_)"
   ]
  },
  {
   "cell_type": "code",
   "execution_count": 9,
   "id": "654efd3b",
   "metadata": {
    "ExecuteTime": {
     "end_time": "2023-02-08T05:54:03.597604Z",
     "start_time": "2023-02-08T05:54:03.587619Z"
    }
   },
   "outputs": [
    {
     "data": {
      "text/plain": [
       "0.9777777777777777"
      ]
     },
     "execution_count": 9,
     "metadata": {},
     "output_type": "execute_result"
    }
   ],
   "source": [
    "\n",
    "\n"
   ]
  },
  {
   "cell_type": "markdown",
   "id": "246e69de",
   "metadata": {},
   "source": [
    "### 디시전트리 모델에 그리드 서치 적용\n",
    "- max_depth 범위 : range(1,5,1)\n",
    "- max_leaf_nodes 범위 : range(1,50,10)\n",
    "- min_samples_leaf 범위 : range(1,150,10)"
   ]
  },
  {
   "cell_type": "code",
   "execution_count": 13,
   "id": "1503fb01",
   "metadata": {
    "ExecuteTime": {
     "end_time": "2023-02-08T06:21:19.439388Z",
     "start_time": "2023-02-08T06:21:19.430407Z"
    }
   },
   "outputs": [],
   "source": [
    "param_deci = {\"max_depth\":range(1,5,1), \"max_leaf_nodes\":range(1,50,10), \"min_samples_leaf\":range(1,150,10)}\n",
    "grid_search_deci = GridSearchCV(DecisionTreeClassifier(), param_deci, cv=10)"
   ]
  },
  {
   "cell_type": "code",
   "execution_count": 14,
   "id": "0b2c3b87",
   "metadata": {
    "ExecuteTime": {
     "end_time": "2023-02-08T06:21:23.461276Z",
     "start_time": "2023-02-08T06:21:21.059397Z"
    }
   },
   "outputs": [
    {
     "data": {
      "text/plain": [
       "GridSearchCV(cv=10, estimator=DecisionTreeClassifier(),\n",
       "             param_grid={'max_depth': range(1, 5),\n",
       "                         'max_leaf_nodes': range(1, 50, 10),\n",
       "                         'min_samples_leaf': range(1, 150, 10)})"
      ]
     },
     "execution_count": 14,
     "metadata": {},
     "output_type": "execute_result"
    }
   ],
   "source": [
    "grid_search_deci.fit(X_train, y_train)"
   ]
  },
  {
   "cell_type": "code",
   "execution_count": 15,
   "id": "b241403b",
   "metadata": {
    "ExecuteTime": {
     "end_time": "2023-02-08T06:24:21.074012Z",
     "start_time": "2023-02-08T06:24:21.061012Z"
    }
   },
   "outputs": [
    {
     "name": "stdout",
     "output_type": "stream",
     "text": [
      "최적의 하이퍼 파라미터 :  {'max_depth': 4, 'max_leaf_nodes': 11, 'min_samples_leaf': 1}\n",
      "최고 교차 검증 점수(정확도) :  0.9427272727272727\n",
      "최고 성능 모델 :  DecisionTreeClassifier(max_depth=4, max_leaf_nodes=11)\n"
     ]
    }
   ],
   "source": [
    "print(\"최적의 하이퍼 파라미터 : \", grid_search_deci.best_params_)\n",
    "print(\"최고 교차 검증 점수(정확도) : \", grid_search_deci.best_score_)\n",
    "# 최고 성능 모델은 grid_search_knn 객체에 저장되어 있기 때문에 쓰지 않아도 됨\n",
    "print(\"최고 성능 모델 : \", grid_search_deci.best_estimator_)"
   ]
  },
  {
   "cell_type": "markdown",
   "id": "d44ab340",
   "metadata": {},
   "source": [
    "### 랜덤 포레스트 모델에 그리드 서치 적용\n",
    "- n_estimators : range(1,20,5)"
   ]
  },
  {
   "cell_type": "code",
   "execution_count": 16,
   "id": "0429f183",
   "metadata": {
    "ExecuteTime": {
     "end_time": "2023-02-08T06:28:37.281381Z",
     "start_time": "2023-02-08T06:28:37.235739Z"
    }
   },
   "outputs": [],
   "source": [
    "RandomForestClassifier?"
   ]
  },
  {
   "cell_type": "code",
   "execution_count": 17,
   "id": "1eb53e39",
   "metadata": {
    "ExecuteTime": {
     "end_time": "2023-02-08T06:30:22.489724Z",
     "start_time": "2023-02-08T06:30:22.476726Z"
    }
   },
   "outputs": [],
   "source": [
    "n_estimators = {'n_estimators':range(1,20,5)}"
   ]
  },
  {
   "cell_type": "code",
   "execution_count": null,
   "id": "a32bf708",
   "metadata": {},
   "outputs": [],
   "source": []
  },
  {
   "cell_type": "code",
   "execution_count": null,
   "id": "6e7d7cea",
   "metadata": {},
   "outputs": [],
   "source": []
  },
  {
   "cell_type": "code",
   "execution_count": null,
   "id": "32d1f256",
   "metadata": {},
   "outputs": [],
   "source": []
  },
  {
   "cell_type": "code",
   "execution_count": null,
   "id": "d5fc4c10",
   "metadata": {},
   "outputs": [],
   "source": []
  },
  {
   "cell_type": "code",
   "execution_count": null,
   "id": "11514840",
   "metadata": {},
   "outputs": [],
   "source": []
  },
  {
   "cell_type": "code",
   "execution_count": null,
   "id": "a0ce282c",
   "metadata": {},
   "outputs": [],
   "source": []
  },
  {
   "cell_type": "code",
   "execution_count": null,
   "id": "4fbfc085",
   "metadata": {},
   "outputs": [],
   "source": []
  }
 ],
 "metadata": {
  "kernelspec": {
   "display_name": "Python 3 (ipykernel)",
   "language": "python",
   "name": "python3"
  },
  "language_info": {
   "codemirror_mode": {
    "name": "ipython",
    "version": 3
   },
   "file_extension": ".py",
   "mimetype": "text/x-python",
   "name": "python",
   "nbconvert_exporter": "python",
   "pygments_lexer": "ipython3",
   "version": "3.9.13"
  },
  "toc": {
   "base_numbering": 1,
   "nav_menu": {},
   "number_sections": true,
   "sideBar": true,
   "skip_h1_title": false,
   "title_cell": "Table of Contents",
   "title_sidebar": "Contents",
   "toc_cell": false,
   "toc_position": {},
   "toc_section_display": true,
   "toc_window_display": false
  }
 },
 "nbformat": 4,
 "nbformat_minor": 5
}
